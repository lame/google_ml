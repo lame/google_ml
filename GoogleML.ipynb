{
 "cells": [
  {
   "cell_type": "markdown",
   "metadata": {},
   "source": [
    "# Google ML Course Notebook"
   ]
  },
  {
   "cell_type": "markdown",
   "metadata": {},
   "source": [
    "## Framing\n",
    "\n",
    "#### Terms\n",
    "\n",
    "**Label**: The true thing that we're predicting, the `y` variable in a linear regression\n",
    "\n",
    "**Features**: The input variable, the `x` variable in a linear regression. can be many `x₁, x₂, ..., xn`\n",
    "\n",
    "**Example**: 1 instance of data, such as **x** can be categorized as labeled or unlabeled. The boldface **x** means that this instance is a vector\n",
    "\n",
    "**Labeled Example**: `{features, label}: (x, y)` used to train the model\n",
    "\n",
    "\n",
    "| housingMedianAge(feature) | totalRooms(feature) | totalBedrooms(feature) | medianHouseValue(label) |\n",
    "|:------------------------- |:------------------- |:---------------------- |:----------------------- |\n",
    "| 15                        | 5612                | 1283                   | 66900                   |\n",
    "| 19                        | 7650                | 1901                   | 80100                   |\n",
    "| 17                        | 720                 | 174                    | 85700                   |\n",
    "| 14                        | 1501                | 337                    | 73400                   |\n",
    "| 20                        | 1454                | 326                    | 65500                   |\n",
    "\n",
    "**Unlabeled Example**: `{features, ?}: (x, ?)` used for making predictions on new data\n",
    "\n",
    "\n",
    "| housingMedianAge(feature) | totalRooms(feature) | totalBedrooms(feature) | \n",
    "|:-------------------------:|:-------------------:|:----------------------:|\n",
    "| 42                        | 1686                | 361                    |\n",
    "| 34                        | 1226                | 180                    |\n",
    "| 33                        | 1077                | 271                    |\n",
    "\n",
    "**Models**: maps examples to predicted label\n",
    "\n",
    "Models use **training** and **inference**\n",
    "\n",
    "Model **training** means creating or learning the model. Showing the model labeled examples and enabling the model to gradually learn the relationship\n",
    "\n",
    "Model **inference** means applying the trained model to unlebeled examples. In the example above the model couls predict `medianHouseValue`\n",
    "\n",
    "**Regression vs. Classification**\n",
    "\n",
    "A **regression** model predicts continuous values, think a linear regression or how much / how little\n",
    "\n",
    "A **classification** model predicts a discrete value, think a boolean value (spam/not spam) or what animal is this\n",
    "\n",
    "\n",
    "\n"
   ]
  },
  {
   "cell_type": "markdown",
   "metadata": {},
   "source": [
    "## Descending into ML\n",
    "\n",
    "### Linear Regression\n",
    "\n",
    "**Linear Regression** is a best fit line\n",
    "\n",
    "$y^1 = w_1 x_1 + b$\n",
    " - $w_1$ is weight vector in one dimension\n",
    " - b stands for bias or Y Intercept, can also be referred to as $w_0$\n",
    " - $x_1$x is the feature in 1 dimension\n",
    " - $y^1$ is the predicted label (desired output)\n",
    "\n",
    "**Loss** Distance of any given data point off of the linear regression line. Loss is on an absoulte scale\n",
    "\n",
    "**Classifying Loss**\n",
    "Squared Error, L₂ Loss: is calculated as the summation of the square of the difference between the model prediction and the true value\n",
    "\n",
    "$\\Sigma$: Summing over all the examples in the training set\n",
    "\n",
    "D: Average loss over all examples\n",
    "\n",
    "A more spohisticated model with three dimensions would be written as $y' = b + w_1x_1 + w_2x_2 + w_3x_3$\n",
    "\n",
    "### Training and Loss\n",
    "\n",
    "**Training** "
   ]
  },
  {
   "cell_type": "code",
   "execution_count": null,
   "metadata": {},
   "outputs": [],
   "source": []
  }
 ],
 "metadata": {
  "kernelspec": {
   "display_name": "Python 3",
   "language": "python",
   "name": "python3"
  },
  "language_info": {
   "codemirror_mode": {
    "name": "ipython",
    "version": 3
   },
   "file_extension": ".py",
   "mimetype": "text/x-python",
   "name": "python",
   "nbconvert_exporter": "python",
   "pygments_lexer": "ipython3",
   "version": "3.7.0"
  }
 },
 "nbformat": 4,
 "nbformat_minor": 2
}

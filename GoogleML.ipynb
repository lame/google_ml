{
 "cells": [
  {
   "cell_type": "markdown",
   "metadata": {},
   "source": [
    "# Google ML Course Notebook"
   ]
  },
  {
   "cell_type": "markdown",
   "metadata": {},
   "source": [
    "### Framing\n",
    "\n",
    "**Terms**\n",
    "\n",
    "- Label: The true thing that we're predicting, the `y` variable in a linear regression\n",
    "- Features: The input variable, the `x` variable in a linear regression. can be many `x1, x2, ..., xn`\n",
    "- Example: 1 instance of data, can be categorized as labeled or unlabeled\n",
    "- Labeled Example: `{features, label}: (x, y)` used to train the model\n",
    "- Unlabeled Exampple: `{features, ?}: (x, ?)` used for making predictions on new data\n",
    "- Model: maps examples to predicted labels\n",
    "\n",
    "\n",
    "\n",
    "\n"
   ]
  },
  {
   "cell_type": "code",
   "execution_count": null,
   "metadata": {},
   "outputs": [],
   "source": []
  }
 ],
 "metadata": {
  "kernelspec": {
   "display_name": "Python 3",
   "language": "python",
   "name": "python3"
  },
  "language_info": {
   "codemirror_mode": {
    "name": "ipython",
    "version": 3
   },
   "file_extension": ".py",
   "mimetype": "text/x-python",
   "name": "python",
   "nbconvert_exporter": "python",
   "pygments_lexer": "ipython3",
   "version": "3.7.0"
  }
 },
 "nbformat": 4,
 "nbformat_minor": 2
}
